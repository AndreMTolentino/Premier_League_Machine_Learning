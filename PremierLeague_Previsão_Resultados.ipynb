{
 "cells": [
  {
   "cell_type": "markdown",
   "metadata": {},
   "source": [
    "# Machine Learning : Premier League"
   ]
  },
  {
   "cell_type": "code",
   "execution_count": 1,
   "metadata": {},
   "outputs": [],
   "source": [
    "# Importando Bibliotecas\n",
    "\n",
    "import pandas as pd\n",
    "import numpy as np\n",
    "import seaborn as sns\n",
    "import matplotlib.pyplot as plt"
   ]
  },
  {
   "cell_type": "code",
   "execution_count": 4,
   "metadata": {},
   "outputs": [
    {
     "ename": "ConnectionError",
     "evalue": "HTTPSConnectionPool(host='www.101greatgoals.com', port=443): Max retries exceeded with url: /wp-content/uploads/2017/03/new-premier-league-logo-2016-17-9.jpg (Caused by NewConnectionError('<urllib3.connection.VerifiedHTTPSConnection object at 0x000001F4BE112EC8>: Failed to establish a new connection: [Errno 11001] getaddrinfo failed'))",
     "output_type": "error",
     "traceback": [
      "\u001b[1;31m---------------------------------------------------------------------------\u001b[0m",
      "\u001b[1;31mgaierror\u001b[0m                                  Traceback (most recent call last)",
      "\u001b[1;32m~\\Anaconda3\\lib\\site-packages\\urllib3\\connection.py\u001b[0m in \u001b[0;36m_new_conn\u001b[1;34m(self)\u001b[0m\n\u001b[0;32m    158\u001b[0m             conn = connection.create_connection(\n\u001b[1;32m--> 159\u001b[1;33m                 (self._dns_host, self.port), self.timeout, **extra_kw)\n\u001b[0m\u001b[0;32m    160\u001b[0m \u001b[1;33m\u001b[0m\u001b[0m\n",
      "\u001b[1;32m~\\Anaconda3\\lib\\site-packages\\urllib3\\util\\connection.py\u001b[0m in \u001b[0;36mcreate_connection\u001b[1;34m(address, timeout, source_address, socket_options)\u001b[0m\n\u001b[0;32m     56\u001b[0m \u001b[1;33m\u001b[0m\u001b[0m\n\u001b[1;32m---> 57\u001b[1;33m     \u001b[1;32mfor\u001b[0m \u001b[0mres\u001b[0m \u001b[1;32min\u001b[0m \u001b[0msocket\u001b[0m\u001b[1;33m.\u001b[0m\u001b[0mgetaddrinfo\u001b[0m\u001b[1;33m(\u001b[0m\u001b[0mhost\u001b[0m\u001b[1;33m,\u001b[0m \u001b[0mport\u001b[0m\u001b[1;33m,\u001b[0m \u001b[0mfamily\u001b[0m\u001b[1;33m,\u001b[0m \u001b[0msocket\u001b[0m\u001b[1;33m.\u001b[0m\u001b[0mSOCK_STREAM\u001b[0m\u001b[1;33m)\u001b[0m\u001b[1;33m:\u001b[0m\u001b[1;33m\u001b[0m\u001b[1;33m\u001b[0m\u001b[0m\n\u001b[0m\u001b[0;32m     58\u001b[0m         \u001b[0maf\u001b[0m\u001b[1;33m,\u001b[0m \u001b[0msocktype\u001b[0m\u001b[1;33m,\u001b[0m \u001b[0mproto\u001b[0m\u001b[1;33m,\u001b[0m \u001b[0mcanonname\u001b[0m\u001b[1;33m,\u001b[0m \u001b[0msa\u001b[0m \u001b[1;33m=\u001b[0m \u001b[0mres\u001b[0m\u001b[1;33m\u001b[0m\u001b[1;33m\u001b[0m\u001b[0m\n",
      "\u001b[1;32m~\\Anaconda3\\lib\\socket.py\u001b[0m in \u001b[0;36mgetaddrinfo\u001b[1;34m(host, port, family, type, proto, flags)\u001b[0m\n\u001b[0;32m    747\u001b[0m     \u001b[0maddrlist\u001b[0m \u001b[1;33m=\u001b[0m \u001b[1;33m[\u001b[0m\u001b[1;33m]\u001b[0m\u001b[1;33m\u001b[0m\u001b[1;33m\u001b[0m\u001b[0m\n\u001b[1;32m--> 748\u001b[1;33m     \u001b[1;32mfor\u001b[0m \u001b[0mres\u001b[0m \u001b[1;32min\u001b[0m \u001b[0m_socket\u001b[0m\u001b[1;33m.\u001b[0m\u001b[0mgetaddrinfo\u001b[0m\u001b[1;33m(\u001b[0m\u001b[0mhost\u001b[0m\u001b[1;33m,\u001b[0m \u001b[0mport\u001b[0m\u001b[1;33m,\u001b[0m \u001b[0mfamily\u001b[0m\u001b[1;33m,\u001b[0m \u001b[0mtype\u001b[0m\u001b[1;33m,\u001b[0m \u001b[0mproto\u001b[0m\u001b[1;33m,\u001b[0m \u001b[0mflags\u001b[0m\u001b[1;33m)\u001b[0m\u001b[1;33m:\u001b[0m\u001b[1;33m\u001b[0m\u001b[1;33m\u001b[0m\u001b[0m\n\u001b[0m\u001b[0;32m    749\u001b[0m         \u001b[0maf\u001b[0m\u001b[1;33m,\u001b[0m \u001b[0msocktype\u001b[0m\u001b[1;33m,\u001b[0m \u001b[0mproto\u001b[0m\u001b[1;33m,\u001b[0m \u001b[0mcanonname\u001b[0m\u001b[1;33m,\u001b[0m \u001b[0msa\u001b[0m \u001b[1;33m=\u001b[0m \u001b[0mres\u001b[0m\u001b[1;33m\u001b[0m\u001b[1;33m\u001b[0m\u001b[0m\n",
      "\u001b[1;31mgaierror\u001b[0m: [Errno 11001] getaddrinfo failed",
      "\nDuring handling of the above exception, another exception occurred:\n",
      "\u001b[1;31mNewConnectionError\u001b[0m                        Traceback (most recent call last)",
      "\u001b[1;32m~\\Anaconda3\\lib\\site-packages\\urllib3\\connectionpool.py\u001b[0m in \u001b[0;36murlopen\u001b[1;34m(self, method, url, body, headers, retries, redirect, assert_same_host, timeout, pool_timeout, release_conn, chunked, body_pos, **response_kw)\u001b[0m\n\u001b[0;32m    599\u001b[0m                                                   \u001b[0mbody\u001b[0m\u001b[1;33m=\u001b[0m\u001b[0mbody\u001b[0m\u001b[1;33m,\u001b[0m \u001b[0mheaders\u001b[0m\u001b[1;33m=\u001b[0m\u001b[0mheaders\u001b[0m\u001b[1;33m,\u001b[0m\u001b[1;33m\u001b[0m\u001b[1;33m\u001b[0m\u001b[0m\n\u001b[1;32m--> 600\u001b[1;33m                                                   chunked=chunked)\n\u001b[0m\u001b[0;32m    601\u001b[0m \u001b[1;33m\u001b[0m\u001b[0m\n",
      "\u001b[1;32m~\\Anaconda3\\lib\\site-packages\\urllib3\\connectionpool.py\u001b[0m in \u001b[0;36m_make_request\u001b[1;34m(self, conn, method, url, timeout, chunked, **httplib_request_kw)\u001b[0m\n\u001b[0;32m    342\u001b[0m         \u001b[1;32mtry\u001b[0m\u001b[1;33m:\u001b[0m\u001b[1;33m\u001b[0m\u001b[1;33m\u001b[0m\u001b[0m\n\u001b[1;32m--> 343\u001b[1;33m             \u001b[0mself\u001b[0m\u001b[1;33m.\u001b[0m\u001b[0m_validate_conn\u001b[0m\u001b[1;33m(\u001b[0m\u001b[0mconn\u001b[0m\u001b[1;33m)\u001b[0m\u001b[1;33m\u001b[0m\u001b[1;33m\u001b[0m\u001b[0m\n\u001b[0m\u001b[0;32m    344\u001b[0m         \u001b[1;32mexcept\u001b[0m \u001b[1;33m(\u001b[0m\u001b[0mSocketTimeout\u001b[0m\u001b[1;33m,\u001b[0m \u001b[0mBaseSSLError\u001b[0m\u001b[1;33m)\u001b[0m \u001b[1;32mas\u001b[0m \u001b[0me\u001b[0m\u001b[1;33m:\u001b[0m\u001b[1;33m\u001b[0m\u001b[1;33m\u001b[0m\u001b[0m\n",
      "\u001b[1;32m~\\Anaconda3\\lib\\site-packages\\urllib3\\connectionpool.py\u001b[0m in \u001b[0;36m_validate_conn\u001b[1;34m(self, conn)\u001b[0m\n\u001b[0;32m    838\u001b[0m         \u001b[1;32mif\u001b[0m \u001b[1;32mnot\u001b[0m \u001b[0mgetattr\u001b[0m\u001b[1;33m(\u001b[0m\u001b[0mconn\u001b[0m\u001b[1;33m,\u001b[0m \u001b[1;34m'sock'\u001b[0m\u001b[1;33m,\u001b[0m \u001b[1;32mNone\u001b[0m\u001b[1;33m)\u001b[0m\u001b[1;33m:\u001b[0m  \u001b[1;31m# AppEngine might not have  `.sock`\u001b[0m\u001b[1;33m\u001b[0m\u001b[1;33m\u001b[0m\u001b[0m\n\u001b[1;32m--> 839\u001b[1;33m             \u001b[0mconn\u001b[0m\u001b[1;33m.\u001b[0m\u001b[0mconnect\u001b[0m\u001b[1;33m(\u001b[0m\u001b[1;33m)\u001b[0m\u001b[1;33m\u001b[0m\u001b[1;33m\u001b[0m\u001b[0m\n\u001b[0m\u001b[0;32m    840\u001b[0m \u001b[1;33m\u001b[0m\u001b[0m\n",
      "\u001b[1;32m~\\Anaconda3\\lib\\site-packages\\urllib3\\connection.py\u001b[0m in \u001b[0;36mconnect\u001b[1;34m(self)\u001b[0m\n\u001b[0;32m    300\u001b[0m         \u001b[1;31m# Add certificate verification\u001b[0m\u001b[1;33m\u001b[0m\u001b[1;33m\u001b[0m\u001b[1;33m\u001b[0m\u001b[0m\n\u001b[1;32m--> 301\u001b[1;33m         \u001b[0mconn\u001b[0m \u001b[1;33m=\u001b[0m \u001b[0mself\u001b[0m\u001b[1;33m.\u001b[0m\u001b[0m_new_conn\u001b[0m\u001b[1;33m(\u001b[0m\u001b[1;33m)\u001b[0m\u001b[1;33m\u001b[0m\u001b[1;33m\u001b[0m\u001b[0m\n\u001b[0m\u001b[0;32m    302\u001b[0m         \u001b[0mhostname\u001b[0m \u001b[1;33m=\u001b[0m \u001b[0mself\u001b[0m\u001b[1;33m.\u001b[0m\u001b[0mhost\u001b[0m\u001b[1;33m\u001b[0m\u001b[1;33m\u001b[0m\u001b[0m\n",
      "\u001b[1;32m~\\Anaconda3\\lib\\site-packages\\urllib3\\connection.py\u001b[0m in \u001b[0;36m_new_conn\u001b[1;34m(self)\u001b[0m\n\u001b[0;32m    167\u001b[0m             raise NewConnectionError(\n\u001b[1;32m--> 168\u001b[1;33m                 self, \"Failed to establish a new connection: %s\" % e)\n\u001b[0m\u001b[0;32m    169\u001b[0m \u001b[1;33m\u001b[0m\u001b[0m\n",
      "\u001b[1;31mNewConnectionError\u001b[0m: <urllib3.connection.VerifiedHTTPSConnection object at 0x000001F4BE112EC8>: Failed to establish a new connection: [Errno 11001] getaddrinfo failed",
      "\nDuring handling of the above exception, another exception occurred:\n",
      "\u001b[1;31mMaxRetryError\u001b[0m                             Traceback (most recent call last)",
      "\u001b[1;32m~\\Anaconda3\\lib\\site-packages\\requests\\adapters.py\u001b[0m in \u001b[0;36msend\u001b[1;34m(self, request, stream, timeout, verify, cert, proxies)\u001b[0m\n\u001b[0;32m    448\u001b[0m                     \u001b[0mretries\u001b[0m\u001b[1;33m=\u001b[0m\u001b[0mself\u001b[0m\u001b[1;33m.\u001b[0m\u001b[0mmax_retries\u001b[0m\u001b[1;33m,\u001b[0m\u001b[1;33m\u001b[0m\u001b[1;33m\u001b[0m\u001b[0m\n\u001b[1;32m--> 449\u001b[1;33m                     \u001b[0mtimeout\u001b[0m\u001b[1;33m=\u001b[0m\u001b[0mtimeout\u001b[0m\u001b[1;33m\u001b[0m\u001b[1;33m\u001b[0m\u001b[0m\n\u001b[0m\u001b[0;32m    450\u001b[0m                 )\n",
      "\u001b[1;32m~\\Anaconda3\\lib\\site-packages\\urllib3\\connectionpool.py\u001b[0m in \u001b[0;36murlopen\u001b[1;34m(self, method, url, body, headers, retries, redirect, assert_same_host, timeout, pool_timeout, release_conn, chunked, body_pos, **response_kw)\u001b[0m\n\u001b[0;32m    637\u001b[0m             retries = retries.increment(method, url, error=e, _pool=self,\n\u001b[1;32m--> 638\u001b[1;33m                                         _stacktrace=sys.exc_info()[2])\n\u001b[0m\u001b[0;32m    639\u001b[0m             \u001b[0mretries\u001b[0m\u001b[1;33m.\u001b[0m\u001b[0msleep\u001b[0m\u001b[1;33m(\u001b[0m\u001b[1;33m)\u001b[0m\u001b[1;33m\u001b[0m\u001b[1;33m\u001b[0m\u001b[0m\n",
      "\u001b[1;32m~\\Anaconda3\\lib\\site-packages\\urllib3\\util\\retry.py\u001b[0m in \u001b[0;36mincrement\u001b[1;34m(self, method, url, response, error, _pool, _stacktrace)\u001b[0m\n\u001b[0;32m    398\u001b[0m         \u001b[1;32mif\u001b[0m \u001b[0mnew_retry\u001b[0m\u001b[1;33m.\u001b[0m\u001b[0mis_exhausted\u001b[0m\u001b[1;33m(\u001b[0m\u001b[1;33m)\u001b[0m\u001b[1;33m:\u001b[0m\u001b[1;33m\u001b[0m\u001b[1;33m\u001b[0m\u001b[0m\n\u001b[1;32m--> 399\u001b[1;33m             \u001b[1;32mraise\u001b[0m \u001b[0mMaxRetryError\u001b[0m\u001b[1;33m(\u001b[0m\u001b[0m_pool\u001b[0m\u001b[1;33m,\u001b[0m \u001b[0murl\u001b[0m\u001b[1;33m,\u001b[0m \u001b[0merror\u001b[0m \u001b[1;32mor\u001b[0m \u001b[0mResponseError\u001b[0m\u001b[1;33m(\u001b[0m\u001b[0mcause\u001b[0m\u001b[1;33m)\u001b[0m\u001b[1;33m)\u001b[0m\u001b[1;33m\u001b[0m\u001b[1;33m\u001b[0m\u001b[0m\n\u001b[0m\u001b[0;32m    400\u001b[0m \u001b[1;33m\u001b[0m\u001b[0m\n",
      "\u001b[1;31mMaxRetryError\u001b[0m: HTTPSConnectionPool(host='www.101greatgoals.com', port=443): Max retries exceeded with url: /wp-content/uploads/2017/03/new-premier-league-logo-2016-17-9.jpg (Caused by NewConnectionError('<urllib3.connection.VerifiedHTTPSConnection object at 0x000001F4BE112EC8>: Failed to establish a new connection: [Errno 11001] getaddrinfo failed'))",
      "\nDuring handling of the above exception, another exception occurred:\n",
      "\u001b[1;31mConnectionError\u001b[0m                           Traceback (most recent call last)",
      "\u001b[1;32m<ipython-input-4-f4b33c327b19>\u001b[0m in \u001b[0;36m<module>\u001b[1;34m\u001b[0m\n\u001b[0;32m      3\u001b[0m \u001b[1;32mfrom\u001b[0m \u001b[0mio\u001b[0m \u001b[1;32mimport\u001b[0m \u001b[0mBytesIO\u001b[0m\u001b[1;33m\u001b[0m\u001b[1;33m\u001b[0m\u001b[0m\n\u001b[0;32m      4\u001b[0m \u001b[1;33m\u001b[0m\u001b[0m\n\u001b[1;32m----> 5\u001b[1;33m \u001b[0mresponse\u001b[0m \u001b[1;33m=\u001b[0m \u001b[0mrequests\u001b[0m\u001b[1;33m.\u001b[0m\u001b[0mget\u001b[0m\u001b[1;33m(\u001b[0m\u001b[1;34m'https://www.101greatgoals.com/wp-content/uploads/2017/03/new-premier-league-logo-2016-17-9.jpg'\u001b[0m\u001b[1;33m)\u001b[0m\u001b[1;33m\u001b[0m\u001b[1;33m\u001b[0m\u001b[0m\n\u001b[0m\u001b[0;32m      6\u001b[0m \u001b[0mimg\u001b[0m \u001b[1;33m=\u001b[0m \u001b[0mImage\u001b[0m\u001b[1;33m.\u001b[0m\u001b[0mopen\u001b[0m\u001b[1;33m(\u001b[0m\u001b[0mBytesIO\u001b[0m\u001b[1;33m(\u001b[0m\u001b[0mresponse\u001b[0m\u001b[1;33m.\u001b[0m\u001b[0mcontent\u001b[0m\u001b[1;33m)\u001b[0m\u001b[1;33m)\u001b[0m\u001b[1;33m\u001b[0m\u001b[1;33m\u001b[0m\u001b[0m\n\u001b[0;32m      7\u001b[0m \u001b[0mimg\u001b[0m\u001b[1;33m\u001b[0m\u001b[1;33m\u001b[0m\u001b[0m\n",
      "\u001b[1;32m~\\Anaconda3\\lib\\site-packages\\requests\\api.py\u001b[0m in \u001b[0;36mget\u001b[1;34m(url, params, **kwargs)\u001b[0m\n\u001b[0;32m     73\u001b[0m \u001b[1;33m\u001b[0m\u001b[0m\n\u001b[0;32m     74\u001b[0m     \u001b[0mkwargs\u001b[0m\u001b[1;33m.\u001b[0m\u001b[0msetdefault\u001b[0m\u001b[1;33m(\u001b[0m\u001b[1;34m'allow_redirects'\u001b[0m\u001b[1;33m,\u001b[0m \u001b[1;32mTrue\u001b[0m\u001b[1;33m)\u001b[0m\u001b[1;33m\u001b[0m\u001b[1;33m\u001b[0m\u001b[0m\n\u001b[1;32m---> 75\u001b[1;33m     \u001b[1;32mreturn\u001b[0m \u001b[0mrequest\u001b[0m\u001b[1;33m(\u001b[0m\u001b[1;34m'get'\u001b[0m\u001b[1;33m,\u001b[0m \u001b[0murl\u001b[0m\u001b[1;33m,\u001b[0m \u001b[0mparams\u001b[0m\u001b[1;33m=\u001b[0m\u001b[0mparams\u001b[0m\u001b[1;33m,\u001b[0m \u001b[1;33m**\u001b[0m\u001b[0mkwargs\u001b[0m\u001b[1;33m)\u001b[0m\u001b[1;33m\u001b[0m\u001b[1;33m\u001b[0m\u001b[0m\n\u001b[0m\u001b[0;32m     76\u001b[0m \u001b[1;33m\u001b[0m\u001b[0m\n\u001b[0;32m     77\u001b[0m \u001b[1;33m\u001b[0m\u001b[0m\n",
      "\u001b[1;32m~\\Anaconda3\\lib\\site-packages\\requests\\api.py\u001b[0m in \u001b[0;36mrequest\u001b[1;34m(method, url, **kwargs)\u001b[0m\n\u001b[0;32m     58\u001b[0m     \u001b[1;31m# cases, and look like a memory leak in others.\u001b[0m\u001b[1;33m\u001b[0m\u001b[1;33m\u001b[0m\u001b[1;33m\u001b[0m\u001b[0m\n\u001b[0;32m     59\u001b[0m     \u001b[1;32mwith\u001b[0m \u001b[0msessions\u001b[0m\u001b[1;33m.\u001b[0m\u001b[0mSession\u001b[0m\u001b[1;33m(\u001b[0m\u001b[1;33m)\u001b[0m \u001b[1;32mas\u001b[0m \u001b[0msession\u001b[0m\u001b[1;33m:\u001b[0m\u001b[1;33m\u001b[0m\u001b[1;33m\u001b[0m\u001b[0m\n\u001b[1;32m---> 60\u001b[1;33m         \u001b[1;32mreturn\u001b[0m \u001b[0msession\u001b[0m\u001b[1;33m.\u001b[0m\u001b[0mrequest\u001b[0m\u001b[1;33m(\u001b[0m\u001b[0mmethod\u001b[0m\u001b[1;33m=\u001b[0m\u001b[0mmethod\u001b[0m\u001b[1;33m,\u001b[0m \u001b[0murl\u001b[0m\u001b[1;33m=\u001b[0m\u001b[0murl\u001b[0m\u001b[1;33m,\u001b[0m \u001b[1;33m**\u001b[0m\u001b[0mkwargs\u001b[0m\u001b[1;33m)\u001b[0m\u001b[1;33m\u001b[0m\u001b[1;33m\u001b[0m\u001b[0m\n\u001b[0m\u001b[0;32m     61\u001b[0m \u001b[1;33m\u001b[0m\u001b[0m\n\u001b[0;32m     62\u001b[0m \u001b[1;33m\u001b[0m\u001b[0m\n",
      "\u001b[1;32m~\\Anaconda3\\lib\\site-packages\\requests\\sessions.py\u001b[0m in \u001b[0;36mrequest\u001b[1;34m(self, method, url, params, data, headers, cookies, files, auth, timeout, allow_redirects, proxies, hooks, stream, verify, cert, json)\u001b[0m\n\u001b[0;32m    531\u001b[0m         }\n\u001b[0;32m    532\u001b[0m         \u001b[0msend_kwargs\u001b[0m\u001b[1;33m.\u001b[0m\u001b[0mupdate\u001b[0m\u001b[1;33m(\u001b[0m\u001b[0msettings\u001b[0m\u001b[1;33m)\u001b[0m\u001b[1;33m\u001b[0m\u001b[1;33m\u001b[0m\u001b[0m\n\u001b[1;32m--> 533\u001b[1;33m         \u001b[0mresp\u001b[0m \u001b[1;33m=\u001b[0m \u001b[0mself\u001b[0m\u001b[1;33m.\u001b[0m\u001b[0msend\u001b[0m\u001b[1;33m(\u001b[0m\u001b[0mprep\u001b[0m\u001b[1;33m,\u001b[0m \u001b[1;33m**\u001b[0m\u001b[0msend_kwargs\u001b[0m\u001b[1;33m)\u001b[0m\u001b[1;33m\u001b[0m\u001b[1;33m\u001b[0m\u001b[0m\n\u001b[0m\u001b[0;32m    534\u001b[0m \u001b[1;33m\u001b[0m\u001b[0m\n\u001b[0;32m    535\u001b[0m         \u001b[1;32mreturn\u001b[0m \u001b[0mresp\u001b[0m\u001b[1;33m\u001b[0m\u001b[1;33m\u001b[0m\u001b[0m\n",
      "\u001b[1;32m~\\Anaconda3\\lib\\site-packages\\requests\\sessions.py\u001b[0m in \u001b[0;36msend\u001b[1;34m(self, request, **kwargs)\u001b[0m\n\u001b[0;32m    644\u001b[0m \u001b[1;33m\u001b[0m\u001b[0m\n\u001b[0;32m    645\u001b[0m         \u001b[1;31m# Send the request\u001b[0m\u001b[1;33m\u001b[0m\u001b[1;33m\u001b[0m\u001b[1;33m\u001b[0m\u001b[0m\n\u001b[1;32m--> 646\u001b[1;33m         \u001b[0mr\u001b[0m \u001b[1;33m=\u001b[0m \u001b[0madapter\u001b[0m\u001b[1;33m.\u001b[0m\u001b[0msend\u001b[0m\u001b[1;33m(\u001b[0m\u001b[0mrequest\u001b[0m\u001b[1;33m,\u001b[0m \u001b[1;33m**\u001b[0m\u001b[0mkwargs\u001b[0m\u001b[1;33m)\u001b[0m\u001b[1;33m\u001b[0m\u001b[1;33m\u001b[0m\u001b[0m\n\u001b[0m\u001b[0;32m    647\u001b[0m \u001b[1;33m\u001b[0m\u001b[0m\n\u001b[0;32m    648\u001b[0m         \u001b[1;31m# Total elapsed time of the request (approximately)\u001b[0m\u001b[1;33m\u001b[0m\u001b[1;33m\u001b[0m\u001b[1;33m\u001b[0m\u001b[0m\n",
      "\u001b[1;32m~\\Anaconda3\\lib\\site-packages\\requests\\adapters.py\u001b[0m in \u001b[0;36msend\u001b[1;34m(self, request, stream, timeout, verify, cert, proxies)\u001b[0m\n\u001b[0;32m    514\u001b[0m                 \u001b[1;32mraise\u001b[0m \u001b[0mSSLError\u001b[0m\u001b[1;33m(\u001b[0m\u001b[0me\u001b[0m\u001b[1;33m,\u001b[0m \u001b[0mrequest\u001b[0m\u001b[1;33m=\u001b[0m\u001b[0mrequest\u001b[0m\u001b[1;33m)\u001b[0m\u001b[1;33m\u001b[0m\u001b[1;33m\u001b[0m\u001b[0m\n\u001b[0;32m    515\u001b[0m \u001b[1;33m\u001b[0m\u001b[0m\n\u001b[1;32m--> 516\u001b[1;33m             \u001b[1;32mraise\u001b[0m \u001b[0mConnectionError\u001b[0m\u001b[1;33m(\u001b[0m\u001b[0me\u001b[0m\u001b[1;33m,\u001b[0m \u001b[0mrequest\u001b[0m\u001b[1;33m=\u001b[0m\u001b[0mrequest\u001b[0m\u001b[1;33m)\u001b[0m\u001b[1;33m\u001b[0m\u001b[1;33m\u001b[0m\u001b[0m\n\u001b[0m\u001b[0;32m    517\u001b[0m \u001b[1;33m\u001b[0m\u001b[0m\n\u001b[0;32m    518\u001b[0m         \u001b[1;32mexcept\u001b[0m \u001b[0mClosedPoolError\u001b[0m \u001b[1;32mas\u001b[0m \u001b[0me\u001b[0m\u001b[1;33m:\u001b[0m\u001b[1;33m\u001b[0m\u001b[1;33m\u001b[0m\u001b[0m\n",
      "\u001b[1;31mConnectionError\u001b[0m: HTTPSConnectionPool(host='www.101greatgoals.com', port=443): Max retries exceeded with url: /wp-content/uploads/2017/03/new-premier-league-logo-2016-17-9.jpg (Caused by NewConnectionError('<urllib3.connection.VerifiedHTTPSConnection object at 0x000001F4BE112EC8>: Failed to establish a new connection: [Errno 11001] getaddrinfo failed'))"
     ]
    }
   ],
   "source": [
    "from PIL import Image\n",
    "import requests\n",
    "from io import BytesIO\n",
    "\n",
    "response = requests.get('https://www.101greatgoals.com/wp-content/uploads/2017/03/new-premier-league-logo-2016-17-9.jpg')\n",
    "img = Image.open(BytesIO(response.content))\n",
    "img"
   ]
  },
  {
   "cell_type": "markdown",
   "metadata": {},
   "source": [
    "## 1. Introdução"
   ]
  },
  {
   "cell_type": "markdown",
   "metadata": {},
   "source": [
    "Dentre os campeonatos de futebol mais visualizados do mundo, a Premier League (Campeonato Inglês) tem se destacado por ser um campeonato de grande equilíbrio entre os times. Diferentemente de outros torneios Europeus, em que há majoritariamente a predominância de 1 ou 2 times, como aconteçe na Alemanha, Espanha e Itália, no torneio Inglês acontece uma rotatividade entre os campões nacionacias, como mostra a tabela abaixo:"
   ]
  },
  {
   "cell_type": "code",
   "execution_count": null,
   "metadata": {},
   "outputs": [],
   "source": [
    "df_Ligas = pd.read_excel('Ligas_Campeoes.xlsx')\n",
    "df_Ligas.index = df_Ligas['Temporada']\n",
    "df_Ligas.drop(columns = ['Temporada'], inplace = True)\n",
    "df_Ligas"
   ]
  },
  {
   "cell_type": "markdown",
   "metadata": {},
   "source": [
    "Devido essa grande disputa, não só ocorre um aumento no público, como  também no número de apostas. Atualmente, é possível encontrar diversos sites de apostas que possuem partidas de futebol disponíveis para dar lances. Número de cartões amarelos, chutes ao gol ou quem será o ganhador da partida são alguns exemplos de apostas disponíveis. A partir dessa infinidade de itens, queremos responder: é possível prever qual será o ganhador de uma partidade de Futebol?\n"
   ]
  },
  {
   "cell_type": "markdown",
   "metadata": {},
   "source": [
    "Para tentar responder ess apergunta, utilizou-se a base de dados do kaggle sobre os jogos da Premier League, além das informações sobre folha salarial disponibilizadas pelo site Sportrac.\n"
   ]
  },
  {
   "cell_type": "markdown",
   "metadata": {},
   "source": [
    "Kaggle - https://www.kaggle.com/zaeemnalla/premier-league\n",
    "Sportrac - https://www.spotrac.com/epl/payroll/"
   ]
  },
  {
   "cell_type": "markdown",
   "metadata": {},
   "source": [
    "## 2. Construindo Banco de Dados"
   ]
  },
  {
   "cell_type": "markdown",
   "metadata": {},
   "source": [
    "Para construir o modelo de previsão de jogos, teremos as variáveis \"Mando da Partida\", \"Número de Gols produzidos\", \"Folha Salaria do Time\" como dados de entrada. \n",
    "É notório que times com maior folha salárial tendem a desempenhar melhor em torneios de pontos corridos, visto que possuem os jogadores mais valiosos.\n",
    "Também é de se esperar que o fator mando de campo também interferfira no resultado da partida, já que os jogadores terão apoio da torcida.\n",
    "Por fim, a varíavel de número de gols produzidos é referente a quantos gols aquele time produziu até o momento daquela partida. Se um time faz mais gols em partidas anteriores, em teoria é mais provavel que ele ganhe a partida."
   ]
  },
  {
   "cell_type": "code",
   "execution_count": null,
   "metadata": {
    "scrolled": true
   },
   "outputs": [],
   "source": [
    "# Carregando Base de dados Kaggle\n",
    "df = pd.read_csv('results.csv')\n",
    "df.head()"
   ]
  },
  {
   "cell_type": "code",
   "execution_count": null,
   "metadata": {},
   "outputs": [],
   "source": [
    "# Alterando Cabeçalhos\n",
    "dict = {\n",
    "    'home_team' : 'Mandante',\n",
    "    'away_team' : 'Visitante',\n",
    "    'home_goals' : 'Gols_Mandante',\n",
    "    'away_goals' : 'Gols_Visitante',\n",
    "    'result': 'Resultado',\n",
    "    'season': 'Temporada'\n",
    "}\n",
    "\n",
    "df = df.rename(columns = dict)\n",
    "df.head()"
   ]
  },
  {
   "cell_type": "markdown",
   "metadata": {},
   "source": [
    "Para criação do modelo, vamos trabalhar apenas com os dados de uma temporada, que nesse caso será a 2017-2018."
   ]
  },
  {
   "cell_type": "code",
   "execution_count": null,
   "metadata": {},
   "outputs": [],
   "source": [
    "# Selecionando apenas temporada 2017-2018\n",
    "selecao = df['Temporada'] == '2017-2018'\n",
    "df = df[selecao]\n",
    "df.head()"
   ]
  },
  {
   "cell_type": "code",
   "execution_count": null,
   "metadata": {},
   "outputs": [],
   "source": [
    "# Corrigindo o Index\n",
    "index = [i for i in range(df.shape[0])]\n",
    "index = np.array(index)\n",
    "df.set_index(index, inplace = True)"
   ]
  },
  {
   "cell_type": "code",
   "execution_count": null,
   "metadata": {
    "scrolled": true
   },
   "outputs": [],
   "source": [
    "# Adicionando as rodadas\n",
    "rodada=[j+1 for j in range(38) for i in range(10)]\n",
    "rodada = np.array(rodada)\n",
    "df['Rodada'] = rodada\n",
    "df.head()"
   ]
  },
  {
   "cell_type": "markdown",
   "metadata": {},
   "source": [
    "### 2.1 Conferência de dados"
   ]
  },
  {
   "cell_type": "markdown",
   "metadata": {},
   "source": [
    "Como na Premier League possui, 38 rodadas e 20 times, devemos ter 20 times repetindo 19 vezes para a coluna Mandante."
   ]
  },
  {
   "cell_type": "code",
   "execution_count": null,
   "metadata": {},
   "outputs": [],
   "source": [
    "# Conferência do Número de Times\n",
    "len(df['Mandante'].unique())"
   ]
  },
  {
   "cell_type": "code",
   "execution_count": null,
   "metadata": {},
   "outputs": [],
   "source": [
    "# Conferência do Número de Rodadas\n",
    "df['Mandante'].value_counts()"
   ]
  },
  {
   "cell_type": "markdown",
   "metadata": {},
   "source": [
    "### 2.2 Contruindo coluna Número de Gols "
   ]
  },
  {
   "cell_type": "code",
   "execution_count": null,
   "metadata": {},
   "outputs": [],
   "source": [
    "# Array Nome Times\n",
    "array_team_df = df['Mandante'].unique()\n",
    "array_team_df.sort()\n",
    "array_team_df"
   ]
  },
  {
   "cell_type": "code",
   "execution_count": null,
   "metadata": {},
   "outputs": [],
   "source": [
    "# Construindo tabela com gols produzidos por cada time por rodada\n",
    "lista = []\n",
    "for time in array_team_df:\n",
    "    selecao = (df['Mandante'] == time) | (df['Visitante'] == time)\n",
    "    df_selecao = df[selecao]\n",
    "    for i in range(38):\n",
    "        if df_selecao.iloc[i,0] == time:\n",
    "            lista.append(df_selecao.iloc[i,2])\n",
    "        else:\n",
    "            lista.append(df_selecao.iloc[i,3])\n",
    "lista = np.array(lista)\n",
    "lista = np.split(lista,20)\n",
    "df_gols = pd.DataFrame(lista)\n",
    "df_gols = df_gols.T\n",
    "df_gols.columns = array_team_df"
   ]
  },
  {
   "cell_type": "code",
   "execution_count": null,
   "metadata": {},
   "outputs": [],
   "source": [
    "# Corrindo index\n",
    "index = np.arange(1,39)\n",
    "df_gols.set_index(index, inplace = True)\n",
    "df_gols.columns.name = 'Rodada'\n",
    "df_gols.head()"
   ]
  },
  {
   "cell_type": "code",
   "execution_count": null,
   "metadata": {},
   "outputs": [],
   "source": [
    "# Somatório de Gols por Rodada\n",
    "acumulado_gols = []\n",
    "for time in range (20):\n",
    "    for rodada in range(38):\n",
    "        acumulado_gols.append(sum(df_gols.iloc[0:rodada,time]))\n",
    "\n",
    "acumulado_gols = np.array(acumulado_gols)\n",
    "acumulado_gols = np.split(acumulado_gols,20)\n",
    "df_acumulado_gols = pd.DataFrame(acumulado_gols)\n",
    "df_acumulado_gols = df_acumulado_gols.T\n",
    "df_acumulado_gols.columns = array_team_df\n",
    "\n",
    "# Corrigindo Index\n",
    "index = np.arange(1,39)\n",
    "df_acumulado_gols.set_index(index, inplace = True)\n",
    "df_acumulado_gols.columns.name = 'Rodada'"
   ]
  },
  {
   "cell_type": "code",
   "execution_count": null,
   "metadata": {},
   "outputs": [],
   "source": [
    "# Somatório Gols times Mandantes\n",
    "times = df_acumulado_gols.columns\n",
    "times = np.array(times)\n",
    "times = times.tolist()\n",
    "\n",
    "lista_gols_mandantes = []\n",
    "for i in range(380):\n",
    "    nome_time = df['Mandante'][i]\n",
    "    n_coluna = times.index(nome_time)\n",
    "    n_linha = df.iloc[i, 6]\n",
    "    lista_gols_mandantes.append(df_acumulado_gols.iloc[n_linha-1,n_coluna])\n",
    "df['Acumulado_Gols_Mandante'] = lista_gols_mandantes\n",
    "\n",
    "# Somatório Gols times Visitantes\n",
    "lista_gols_visitantes = []\n",
    "for i in range(380):\n",
    "    nome_time = df['Visitante'][i]\n",
    "    n_coluna = times.index(nome_time)\n",
    "    n_linha = df.iloc[i, 6]\n",
    "    lista_gols_visitantes.append(df_acumulado_gols.iloc[n_linha-1,n_coluna])\n",
    "df['Acumulado_Gols_Visitante'] = lista_gols_visitantes\n",
    "df.tail(10)"
   ]
  },
  {
   "cell_type": "markdown",
   "metadata": {},
   "source": [
    "Para ajudar o leitor, temos na tabela acima que na Rodada 38, ou seja, até a rodada 37, o time do Manchester City havia produzido 105 gols na temporada, enquanto o time do Everton produziu 37.\n",
    "Ou seja , nós estamos olhando o histórico de gols produzidos até a rodada analisada para prever o resultado da partida."
   ]
  },
  {
   "cell_type": "code",
   "execution_count": null,
   "metadata": {},
   "outputs": [],
   "source": [
    "# Colunas Diferenciais\n",
    "df['Diferença_Gols_Mandante'] = df['Acumulado_Gols_Mandante']-df['Acumulado_Gols_Visitante']\n",
    "df['Diferença_Gols_Visitante'] = df['Acumulado_Gols_Visitante']-df['Acumulado_Gols_Mandante']\n",
    "df.head()"
   ]
  },
  {
   "cell_type": "markdown",
   "metadata": {},
   "source": [
    "### 2.3. Base de Dados Salário"
   ]
  },
  {
   "cell_type": "code",
   "execution_count": null,
   "metadata": {
    "scrolled": true
   },
   "outputs": [],
   "source": [
    "# Carregando Salários\n",
    "df_Salary = pd.read_excel('Salary.xlsx')\n",
    "df_Salary.sort_values(by = 'TEAM', inplace = True)\n",
    "df_Salary.head()"
   ]
  },
  {
   "cell_type": "code",
   "execution_count": null,
   "metadata": {},
   "outputs": [],
   "source": [
    "# Array de Times \n",
    "array_team_df_Salary = df_Salary['TEAM'].unique()\n",
    "array_team_df_Salary.sort()\n",
    "array_team_df_Salary"
   ]
  },
  {
   "cell_type": "code",
   "execution_count": null,
   "metadata": {},
   "outputs": [],
   "source": [
    "# Comparação de nomes\n",
    "df_times_names = pd.DataFrame({'Kaggle':array_team_df, 'Spotrac': array_team_df_Salary})\n",
    "df_times_names"
   ]
  },
  {
   "cell_type": "code",
   "execution_count": null,
   "metadata": {},
   "outputs": [],
   "source": [
    "# Criando Relação\n",
    "relacao = np.array([array_team_df, array_team_df_Salary]) \n",
    "\n",
    "# Criando Dicionário\n",
    "dict = {}\n",
    "for j in range(relacao.shape[1]):\n",
    "    dict[relacao[0,j]] = relacao[1,j]\n",
    "    \n",
    "print(dict)"
   ]
  },
  {
   "cell_type": "code",
   "execution_count": null,
   "metadata": {},
   "outputs": [],
   "source": [
    "# Substituindo nome em df\n",
    "df['Mandantes'] = df.Mandante.map(dict)\n",
    "df['Visitantes'] = df.Visitante.map(dict)\n",
    "df.drop(columns = ['Mandante','Visitante', 'Gols_Mandante', 'Gols_Visitante'], inplace = True)\n",
    "df.head()"
   ]
  },
  {
   "cell_type": "code",
   "execution_count": null,
   "metadata": {},
   "outputs": [],
   "source": [
    "# Dicionario Folha Salário\n",
    "dict_salary = {}\n",
    "for i in range(len(array_team_df_Salary)):\n",
    "    dict_salary[array_team_df_Salary[i]] = df_Salary.iloc[i,3]\n",
    "print (dict_salary)"
   ]
  },
  {
   "cell_type": "code",
   "execution_count": null,
   "metadata": {},
   "outputs": [],
   "source": [
    "# Construindo Coluna de Fola Salarial\n",
    "df['Folha_Mandante'] = df.Mandantes.map(dict_salary)\n",
    "df['Folha_Visitante'] = df.Visitantes.map(dict_salary)"
   ]
  },
  {
   "cell_type": "code",
   "execution_count": null,
   "metadata": {},
   "outputs": [],
   "source": [
    "# Diferença Salarial\n",
    "df['D_Folha_Mandante'] = df['Folha_Mandante'] - df['Folha_Visitante']\n",
    "df['D_Folha_Visitante'] = df['Folha_Visitante'] - df['Folha_Mandante']\n",
    "df.head()"
   ]
  },
  {
   "cell_type": "markdown",
   "metadata": {},
   "source": [
    "### 2.4 Atribuindo placar"
   ]
  },
  {
   "cell_type": "code",
   "execution_count": null,
   "metadata": {},
   "outputs": [],
   "source": [
    "# Resultado\n",
    "dict_resultado_mandante = {\n",
    "    'H':2,\n",
    "    'D':1,\n",
    "    'A':0\n",
    "}\n",
    "dict_resultado_visitante = {\n",
    "    'H':0,\n",
    "    'D':1,\n",
    "    'A':2\n",
    "}\n",
    "df['Score_Mandante'] = df.Resultado.map(dict_resultado_mandante)\n",
    "df['Score_Visitante'] = df.Resultado.map(dict_resultado_visitante)\n",
    "df.head()"
   ]
  },
  {
   "cell_type": "markdown",
   "metadata": {},
   "source": [
    "### 2.5 Empilhando dados"
   ]
  },
  {
   "cell_type": "markdown",
   "metadata": {},
   "source": [
    "Para emplihar os dados, vamos selecionar times que jogaram em casa em 50 % das partidas e o 50% times que jogaram fora de casa nas partidas. Para facilitar,vamos determinar que caso a coluna possua um index par, analizaremos os times que estão jogando em casa. Para o index impar, analisarem os time visitante."
   ]
  },
  {
   "cell_type": "code",
   "execution_count": null,
   "metadata": {},
   "outputs": [],
   "source": [
    "# Colunas Necessárias Casa, D_Folha_Casa, Result, selecionando metade dos dados (Colunas Pares)\n",
    "df_ML = df[['Rodada', 'Mandantes', 'Acumulado_Gols_Mandante', 'Diferença_Gols_Mandante', 'Folha_Mandante', 'D_Folha_Mandante', 'Score_Mandante']][df.index%2 == 0]\n",
    "df_ML['Mando_de_Campo'] = 1\n",
    "df_ML.columns = ['Rodada','Time', 'Acumulado_Gols', 'Diferença_Gols', 'Folha', 'Diferença_Folha', 'Score', 'Mando_Campo']\n",
    "df_ML.head()"
   ]
  },
  {
   "cell_type": "code",
   "execution_count": null,
   "metadata": {},
   "outputs": [],
   "source": [
    "# Colunas Necessárias Casa, D_Folha_Casa, Result, selecionando metade dos dados (Colunas Pares)\n",
    "df_ML_1 = df[['Rodada', 'Visitantes', 'Acumulado_Gols_Visitante', 'Diferença_Gols_Visitante', 'Folha_Visitante', 'D_Folha_Visitante', 'Score_Visitante']][df.index%2 == 1]\n",
    "df_ML_1['Mando_de_Campo'] = 0\n",
    "df_ML_1.columns = ['Rodada','Time', 'Acumulado_Gols', 'Diferença_Gols', 'Folha', 'Diferença_Folha', 'Score', 'Mando_Campo']\n",
    "df_ML_1.head()"
   ]
  },
  {
   "cell_type": "code",
   "execution_count": null,
   "metadata": {},
   "outputs": [],
   "source": [
    "# Empilhando dados\n",
    "Consolidado = [df_ML,df_ML_1]\n",
    "Resultado = pd.concat(Consolidado)\n",
    "Resultado.head()"
   ]
  },
  {
   "cell_type": "markdown",
   "metadata": {},
   "source": [
    "## 3. Criando Modelo de MachineLearning"
   ]
  },
  {
   "cell_type": "markdown",
   "metadata": {},
   "source": [
    "### 3.1. Analise Comportamento de Dados"
   ]
  },
  {
   "cell_type": "markdown",
   "metadata": {},
   "source": [
    "Para entender como é o comportamento das 3 variáveis analisadas vamos contruir gráficos de dispersão. Lembrando que os números 0,1,2 representam Derrota, Empate e Vitória respectivamente."
   ]
  },
  {
   "cell_type": "code",
   "execution_count": null,
   "metadata": {},
   "outputs": [],
   "source": [
    "plt.rc('figure', figsize = (15,14))\n",
    "fig, ax =plt.subplots(3,1)\n",
    "\n",
    "sns.scatterplot(x='Diferença_Folha', y='Diferença_Gols',  hue='Score', data=Resultado, ax=ax[0]) \n",
    "sns.scatterplot(x='Diferença_Folha', y='Mando_Campo',  hue='Score', data=Resultado, ax=ax[1]) \n",
    "sns.scatterplot(x='Diferença_Gols', y='Mando_Campo',  hue='Score', data=Resultado, ax=ax[2])"
   ]
  },
  {
   "cell_type": "markdown",
   "metadata": {},
   "source": [
    "O gráfico 1 reafirma a importância dos número de gols e folha salarial, já que há uma concentração de bolas pretas (Vitórias) no canto superior esquerdo do gráfico. O mando de campo também demonstrar ser um atributo relevante, visto existe um maior concentração de bolas pretas(Vitórias) em situações em que o time foi o mandante."
   ]
  },
  {
   "cell_type": "markdown",
   "metadata": {},
   "source": [
    "### 3.2. Modelo Linear SVC"
   ]
  },
  {
   "cell_type": "markdown",
   "metadata": {},
   "source": [
    "### 3.2.1. Definindo Variáveis"
   ]
  },
  {
   "cell_type": "markdown",
   "metadata": {},
   "source": [
    "Em um primeiro momento vamos utilizar apenas os atributos 'Diferença_Gols' e 'Diferença_Folha', para que possamos desenhar a barreira de decisão."
   ]
  },
  {
   "cell_type": "code",
   "execution_count": null,
   "metadata": {},
   "outputs": [],
   "source": [
    "X = Resultado[['Diferença_Gols', 'Diferença_Folha']]\n",
    "y = Resultado['Score']"
   ]
  },
  {
   "cell_type": "markdown",
   "metadata": {},
   "source": [
    "### 3.2.2. Contruindo Modelo"
   ]
  },
  {
   "cell_type": "code",
   "execution_count": null,
   "metadata": {},
   "outputs": [],
   "source": [
    "from sklearn.model_selection import train_test_split\n",
    "from sklearn.svm import LinearSVC\n",
    "from sklearn.metrics import accuracy_score\n",
    "\n",
    "# Definido semente Padrão\n",
    "SEED = 39\n",
    "np.random.seed(SEED)\n",
    "\n",
    "# Dividindo amostra em treino e teste\n",
    "treino_x, teste_x, treino_y, teste_y = train_test_split(X, y,\n",
    "                                                         test_size = 0.25,\n",
    "                                                         stratify = y)\n",
    "print(\"Treinaremos com %d elementos e testaremos com %d elementos\" % (len(treino_x), len(teste_x)))\n",
    "\n",
    "# Criando modelo \n",
    "modelo = LinearSVC()\n",
    "modelo.fit(treino_x, treino_y)\n",
    "previsoes = modelo.predict(teste_x)\n",
    "\n",
    "# Calculando Acuracia do Modelo\n",
    "acuracia = accuracy_score(teste_y, previsoes) * 100\n",
    "print(\"A acurácia foi %.2f%%\" % acuracia)"
   ]
  },
  {
   "cell_type": "markdown",
   "metadata": {},
   "source": [
    "### 3.2.3. Contruindo Barreira de Decisão "
   ]
  },
  {
   "cell_type": "code",
   "execution_count": null,
   "metadata": {},
   "outputs": [],
   "source": [
    "x_min = teste_x.Diferença_Gols.min()\n",
    "x_max = teste_x.Diferença_Gols.max()\n",
    "y_min = teste_x.Diferença_Folha.min()\n",
    "y_max = teste_x.Diferença_Folha.max()\n",
    "\n",
    "pixels = 100\n",
    "eixo_x = np.arange(x_min, x_max, (x_max - x_min) / pixels)\n",
    "eixo_y = np.arange(y_min, y_max, (y_max - y_min) / pixels)\n",
    "\n",
    "xx, yy = np.meshgrid(eixo_x, eixo_y)\n",
    "pontos = np.c_[xx.ravel(), yy.ravel()]\n",
    "\n",
    "Z = modelo.predict(pontos)\n",
    "Z = Z.reshape(xx.shape)\n",
    "\n",
    "import matplotlib.pyplot as plt\n",
    "\n",
    "plt.contourf(xx, yy, Z, alpha=0.3)\n",
    "ax = plt.scatter(teste_x.Diferença_Gols, teste_x.Diferença_Folha, c=teste_y, s=20)"
   ]
  },
  {
   "cell_type": "markdown",
   "metadata": {},
   "source": [
    "Apenas pela imagem acima, é possível verificar que a decisão do modelo foi quase igual a dividir a amortra no meio, e prever vitória para quem estiver acima e derrota para os que estiverem abaixo. A acurácia foi igual a 23,16%, ou seja, aparentemente ínfima.\n",
    "Mas quão ruim foi a previsão desse modelo? Necessitamos ter uma base para saber classificar o nosso resultado."
   ]
  },
  {
   "cell_type": "markdown",
   "metadata": {},
   "source": [
    "### 3.2.4. Dummy Classifier"
   ]
  },
  {
   "cell_type": "markdown",
   "metadata": {},
   "source": [
    "Esse estimador irá prever qual é acurácia do modelo caso optamos por chutar o valor que mais se repete (nesse caso foi a Vitória). Isto é, prevendo que todos os times analisado fossem sair vitoriosos das partidas, qual seria o percentual de acerto do nosso modelo?"
   ]
  },
  {
   "cell_type": "code",
   "execution_count": null,
   "metadata": {},
   "outputs": [],
   "source": [
    "# Comparando a acurácia\n",
    "from sklearn.dummy import DummyClassifier\n",
    "\n",
    "dummy = DummyClassifier(strategy='most_frequent')\n",
    "dummy.fit(treino_x, treino_y)\n",
    "acuracia = dummy.score(teste_x, teste_y) * 100\n",
    "\n",
    "print(\"A acurácia do dummy foi %.2f%%\" % acuracia)"
   ]
  },
  {
   "cell_type": "markdown",
   "metadata": {},
   "source": [
    "### 3.3. Modelo SVC"
   ]
  },
  {
   "cell_type": "markdown",
   "metadata": {},
   "source": [
    "### 3.3.1. Definindo Variáveis"
   ]
  },
  {
   "cell_type": "code",
   "execution_count": null,
   "metadata": {},
   "outputs": [],
   "source": [
    "X = Resultado[['Diferença_Gols', 'Diferença_Folha']]\n",
    "y = Resultado['Score']"
   ]
  },
  {
   "cell_type": "markdown",
   "metadata": {},
   "source": [
    "### 3.3.2. Construindo Modelo"
   ]
  },
  {
   "cell_type": "code",
   "execution_count": null,
   "metadata": {},
   "outputs": [],
   "source": [
    "# Utilizando modelo Machine Learning\n",
    "from sklearn.preprocessing import StandardScaler\n",
    "from sklearn.svm import SVC\n",
    "\n",
    "# Definido semente Padrão\n",
    "SEED = 39\n",
    "np.random.seed(SEED)\n",
    "\n",
    "# Dividindo amostra em treino e teste\n",
    "raw_treino_x, raw_teste_x, treino_y, teste_y = train_test_split(X, y, test_size = 0.25,\n",
    "                                                         stratify = y)\n",
    "print(\"Treinaremos com %d elementos e testaremos com %d elementos\" % (len(raw_treino_x), len(raw_teste_x)))\n",
    "\n",
    "# Normalizador\n",
    "scaler = StandardScaler()\n",
    "scaler.fit(raw_treino_x)\n",
    "treino_x = scaler.transform(raw_treino_x)\n",
    "teste_x = scaler.transform(raw_teste_x)\n",
    "\n",
    "# Criando modelo\n",
    "modelo = SVC()\n",
    "modelo.fit(treino_x, treino_y)\n",
    "previsoes = modelo.predict(teste_x)\n",
    "\n",
    "# Calcuando acurácia do Modelo\n",
    "acuracia = accuracy_score(teste_y, previsoes) * 100\n",
    "print(\"A acurácia foi %.2f%%\" % acuracia)\n"
   ]
  },
  {
   "cell_type": "markdown",
   "metadata": {},
   "source": [
    "### 3.3.3. Construindo Barreira de Decisão"
   ]
  },
  {
   "cell_type": "code",
   "execution_count": null,
   "metadata": {
    "scrolled": true
   },
   "outputs": [],
   "source": [
    "data_x = teste_x[:,0]\n",
    "data_y = teste_x[:,1]\n",
    "\n",
    "x_min = data_x.min()\n",
    "x_max = data_x.max()\n",
    "y_min = data_y.min()\n",
    "y_max = data_y.max()\n",
    "\n",
    "pixels = 100\n",
    "eixo_x = np.arange(x_min, x_max, (x_max - x_min) / pixels)\n",
    "eixo_y = np.arange(y_min, y_max, (y_max - y_min) / pixels)\n",
    "\n",
    "xx, yy = np.meshgrid(eixo_x, eixo_y)\n",
    "pontos = np.c_[xx.ravel(), yy.ravel()]\n",
    "\n",
    "Z = modelo.predict(pontos)\n",
    "Z = Z.reshape(xx.shape)\n",
    "\n",
    "import matplotlib.pyplot as plt\n",
    "\n",
    "plt.contourf(xx, yy, Z, alpha=0.3)\n",
    "plt.scatter(data_x, data_y, c=teste_y, s=20)"
   ]
  },
  {
   "cell_type": "markdown",
   "metadata": {},
   "source": [
    "No gráfico acima, conseguimos perceber a diferença do modelo SVC, em que o modelo não fica restrito ao traado de linhas. É possível verificar 3 áreas claras de tomada de decisão, sendo roxa (derrota), verde (empate), amarela (Vitória). Como foi possível observar seção do comportamento de dados, quanto mais acima e a direita do gráfico, mais proválvel é a vitória. O oposto também segue a lógica. E na região central do gráfico o modelo definiu a área de empate. Entretanto, ainda que a acurácia teha subido para 50,53% ainda é elevado o número de pontos de coloração diferente da área que está incluído."
   ]
  },
  {
   "cell_type": "markdown",
   "metadata": {},
   "source": [
    "Logo, iremos utilizar a variável 'Mando_Campo' tentar aumentar a acurácia."
   ]
  },
  {
   "cell_type": "markdown",
   "metadata": {},
   "source": [
    "### 3.3.4 Adiconando 3° Atributo"
   ]
  },
  {
   "cell_type": "code",
   "execution_count": null,
   "metadata": {},
   "outputs": [],
   "source": [
    "# Definindo X e y\n",
    "X = Resultado[['Diferença_Gols', 'Diferença_Folha', 'Mando_Campo']]\n",
    "y = Resultado['Score']"
   ]
  },
  {
   "cell_type": "code",
   "execution_count": null,
   "metadata": {},
   "outputs": [],
   "source": [
    "# Utilizando modelo Machine Learning\n",
    "from sklearn.preprocessing import StandardScaler\n",
    "from sklearn.svm import SVC\n",
    "\n",
    "# Definido semente Padrão\n",
    "SEED = 39\n",
    "np.random.seed(SEED)\n",
    "\n",
    "# Dividindo amostra em treino e teste\n",
    "raw_treino_x, raw_teste_x, treino_y, teste_y = train_test_split(X, y, test_size = 0.25,\n",
    "                                                         stratify = y)\n",
    "\n",
    "# Normalizador\n",
    "scaler = StandardScaler()\n",
    "scaler.fit(raw_treino_x)\n",
    "treino_x = scaler.transform(raw_treino_x)\n",
    "teste_x = scaler.transform(raw_teste_x)\n",
    "\n",
    "# Criando modelo\n",
    "modelo = SVC()\n",
    "modelo.fit(treino_x, treino_y)\n",
    "previsoes = modelo.predict(teste_x)\n",
    "\n",
    "# Calcuando acurácia do Modelo\n",
    "acuracia = accuracy_score(teste_y, previsoes) * 100\n",
    "print(\"A acurácia foi %.2f%%\" % acuracia)"
   ]
  },
  {
   "cell_type": "markdown",
   "metadata": {},
   "source": [
    "A acurácia teve um aumento considerável ao introduzirmos o atributo mando de campo. No entanto, com essa adição não é possível desenha o gráfico da barreira de decissão. Ou seja, não conseguimos vizualizar de que forma o modelo faz a tomada de decisão."
   ]
  },
  {
   "cell_type": "markdown",
   "metadata": {},
   "source": [
    "### 3.4. Modelo Árvore de Decisão"
   ]
  },
  {
   "cell_type": "markdown",
   "metadata": {},
   "source": [
    "### 3.4.1. Definindo Variáveis"
   ]
  },
  {
   "cell_type": "code",
   "execution_count": null,
   "metadata": {},
   "outputs": [],
   "source": [
    "# Definindo X e y\n",
    "X = Resultado[['Diferença_Gols', 'Diferença_Folha', 'Mando_Campo']]\n",
    "y = Resultado['Score']"
   ]
  },
  {
   "cell_type": "markdown",
   "metadata": {},
   "source": [
    "### 3.4.2. Construindo Modelo"
   ]
  },
  {
   "cell_type": "code",
   "execution_count": null,
   "metadata": {},
   "outputs": [],
   "source": [
    "# Utilizando modelo Machine Learning\n",
    "from sklearn.tree import DecisionTreeClassifier\n",
    "\n",
    "# Definido semente Padrão\n",
    "SEED = 39\n",
    "np.random.seed(SEED)\n",
    "\n",
    "# Dividindo amostra em treino e teste\n",
    "raw_treino_x, raw_teste_x, treino_y, teste_y = train_test_split(X, y, test_size = 0.25,\n",
    "                                                         stratify = y)\n",
    "print(\"Treinaremos com %d elementos e testaremos com %d elementos\" % (len(treino_x), len(teste_x)))\n",
    "\n",
    "# Criando modelo\n",
    "modelo = DecisionTreeClassifier(max_depth=2)\n",
    "modelo.fit(raw_treino_x, treino_y)\n",
    "previsoes = modelo.predict(raw_teste_x)\n",
    "\n",
    "# Calcuando acurácia do Modelo\n",
    "acuracia = accuracy_score(teste_y, previsoes) * 100\n",
    "print(\"A acurácia foi %.2f%%\" % acuracia)\n"
   ]
  },
  {
   "cell_type": "markdown",
   "metadata": {},
   "source": [
    "### 3.4.3. Árvore de Decisão"
   ]
  },
  {
   "cell_type": "code",
   "execution_count": null,
   "metadata": {},
   "outputs": [],
   "source": [
    "from sklearn.tree import export_graphviz\n",
    "import graphviz\n",
    "\n",
    "features = X.columns\n",
    "dot_data = export_graphviz(modelo, out_file=None,\n",
    "                           filled = True, rounded = True,\n",
    "                           feature_names = features,\n",
    "                          class_names = [\"Derrota\", \"Empate\",\"Vitória\"])\n",
    "grafico = graphviz.Source(dot_data)\n",
    "grafico"
   ]
  },
  {
   "cell_type": "markdown",
   "metadata": {},
   "source": [
    "## 5. Comparação de Modelos"
   ]
  },
  {
   "cell_type": "code",
   "execution_count": null,
   "metadata": {},
   "outputs": [],
   "source": [
    "df_Modelos = pd.read_excel('Modelos.xlsx')\n",
    "df_Modelos.index = df_Modelos['Modelo']\n",
    "df_Modelos.drop(columns = ['Modelo'], inplace = True)\n",
    "df_Modelos"
   ]
  },
  {
   "cell_type": "markdown",
   "metadata": {},
   "source": [
    "## 6. Conclusão"
   ]
  },
  {
   "cell_type": "markdown",
   "metadata": {},
   "source": [
    "Embora o modelo SVC tenha apresentado melhor acurácia (57,89%) , ao utilizar essa ferramenta com >2 variáveis, não é possível traçar o gráfico de barreira de decisão. Ou seja, caímos em um blackbox, em que não é possível ratrear como foi escolhida a tomada de decisão. "
   ]
  },
  {
   "cell_type": "markdown",
   "metadata": {},
   "source": [
    "Para aumentar a acurácia do modelo acredito que ouras variáveis de entrada podem ser acrescentadas, como número de gols sofridos por time (ponderando as melhores defesas) e valor do time que entrou em campo (ponderar a situação em que reservas são utilizados)."
   ]
  },
  {
   "cell_type": "code",
   "execution_count": null,
   "metadata": {},
   "outputs": [],
   "source": []
  }
 ],
 "metadata": {
  "kernelspec": {
   "display_name": "Python 3",
   "language": "python",
   "name": "python3"
  },
  "language_info": {
   "codemirror_mode": {
    "name": "ipython",
    "version": 3
   },
   "file_extension": ".py",
   "mimetype": "text/x-python",
   "name": "python",
   "nbconvert_exporter": "python",
   "pygments_lexer": "ipython3",
   "version": "3.7.4"
  }
 },
 "nbformat": 4,
 "nbformat_minor": 2
}
